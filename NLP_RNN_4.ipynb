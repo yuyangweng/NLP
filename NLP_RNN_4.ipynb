{
  "nbformat": 4,
  "nbformat_minor": 0,
  "metadata": {
    "kernelspec": {
      "display_name": "Python 3",
      "language": "python",
      "name": "python3"
    },
    "language_info": {
      "codemirror_mode": {
        "name": "ipython",
        "version": 3
      },
      "file_extension": ".py",
      "mimetype": "text/x-python",
      "name": "python",
      "nbconvert_exporter": "python",
      "pygments_lexer": "ipython3",
      "version": "3.7.9"
    },
    "colab": {
      "name": "NLP-RNN-4.ipynb",
      "provenance": [],
      "collapsed_sections": [],
      "include_colab_link": true
    },
    "accelerator": "GPU"
  },
  "cells": [
    {
      "cell_type": "markdown",
      "metadata": {
        "id": "view-in-github",
        "colab_type": "text"
      },
      "source": [
        "<a href=\"https://colab.research.google.com/github/yuyangweng/NLP/blob/main/NLP_RNN_4.ipynb\" target=\"_parent\"><img src=\"https://colab.research.google.com/assets/colab-badge.svg\" alt=\"Open In Colab\"/></a>"
      ]
    },
    {
      "cell_type": "markdown",
      "metadata": {
        "id": "ChWIhAkyvZsY"
      },
      "source": [
        "# 循環神經網絡 LSTM (長短期記憶)+ embedding 來學習字母表順序"
      ]
    },
    {
      "cell_type": "markdown",
      "metadata": {
        "id": "W2FLmN3pvZsa"
      },
      "source": [
        "## 模型 1. 用LSTM學習一個字符到一個字符映射"
      ]
    },
    {
      "cell_type": "markdown",
      "metadata": {
        "id": "SqSxypRcvZsa"
      },
      "source": [
        "### STEP1. 匯入 Keras 及相關模組"
      ]
    },
    {
      "cell_type": "code",
      "metadata": {
        "id": "tBZopwQLvZsb"
      },
      "source": [
        "import numpy\n",
        "import tensorflow\n",
        "from tensorflow import keras\n",
        "from tensorflow.keras.models import Sequential\n",
        "from tensorflow.keras.layers import Dense, Embedding\n",
        "from tensorflow.keras.layers import LSTM\n",
        "from tensorflow.keras import utils\n",
        "from tensorflow.keras.preprocessing.sequence import pad_sequences\n",
        "\n",
        "# 給定隨機的種子, 以便讓大家跑起來的結果是相同的\n",
        "numpy.random.seed(7)"
      ],
      "execution_count": null,
      "outputs": []
    },
    {
      "cell_type": "markdown",
      "metadata": {
        "id": "zjweartxvZse"
      },
      "source": [
        "### STEP2. 準備資料\n",
        "\n",
        "我們現在可以定義我們的數據集，字母表(alphabet)。為了便於閱讀，我們使用大寫字母來定義字母表。\n",
        "\n",
        "我們需要將字母表的每個字母映射到數字以便使用人工網絡來進行訓練。我們可以通過為字符創建字母索引的字典來輕鬆完成此操作。\n",
        "我們還可以創建一個反向查找，將預測轉換回字符以供以後使用。"
      ]
    },
    {
      "cell_type": "code",
      "metadata": {
        "id": "7J7kuSSJvZse"
      },
      "source": [
        "# 定義序列數據集\n",
        "alphabet = \"ABCDEFGHIJKLMNOPQRSTUVWXYZ\"\n",
        "\n",
        "# 創建字符映射到整數（0 - 25)和反相的查詢字典物件\n",
        "char_to_int = dict((c, i) for i, c in enumerate(alphabet))\n",
        "int_to_char = dict((i, c) for i, c in enumerate(alphabet))"
      ],
      "execution_count": null,
      "outputs": []
    },
    {
      "cell_type": "code",
      "metadata": {
        "id": "P30RT3HkvZsg"
      },
      "source": [
        "# 打印看一下\n",
        "print(\"字母對應到數字編號: \\n\", char_to_int)\n",
        "print(\"\\n\")\n",
        "\n",
        "print(\"數字編號對應到字母: \\n\", int_to_char)"
      ],
      "execution_count": null,
      "outputs": []
    },
    {
      "cell_type": "markdown",
      "metadata": {
        "id": "iuy6dSK7vZsj"
      },
      "source": [
        "### STEP3. 準備訓練用資料\n",
        "\n",
        "現在我們需要創建我們的輸入(X)和輸出(y)來訓練我們的神經網絡。我們可以通過定義一個輸入序列長度，然後從輸入字母序列中讀取序列。\n",
        "例如，我們使用輸入長度1.從原始輸入數據的開頭開始，我們可以讀取第一個字母“A”，下一個字母作為預測“B”。我們沿著一個字符移動並重複，直到達到“Z”的預測。"
      ]
    },
    {
      "cell_type": "code",
      "metadata": {
        "id": "5WpCS4QavZsj"
      },
      "source": [
        "# 準備輸入數據集\n",
        "seq_length = 1\n",
        "dataX = []\n",
        "dataY = []\n",
        "for i in range(0, len(alphabet) - seq_length, 1):\n",
        "    seq_in = alphabet[i:i + seq_length]\n",
        "    seq_out = alphabet[i + seq_length]\n",
        "    dataX.append([char_to_int[char] for char in seq_in])\n",
        "    dataY.append(char_to_int[seq_out])\n",
        "    print(seq_in, '->', seq_out)"
      ],
      "execution_count": null,
      "outputs": []
    },
    {
      "cell_type": "code",
      "metadata": {
        "id": "O0hvdn_7FYvS"
      },
      "source": [
        "print(dataX)\n",
        "print(dataY)"
      ],
      "execution_count": null,
      "outputs": []
    },
    {
      "cell_type": "markdown",
      "metadata": {
        "id": "rtvZON-rvZsl"
      },
      "source": [
        "### STEP4. 資料預處理\n",
        "我們需要將NumPy數組重塑為LSTM網絡所期望的格式，也就是: (samples, time_steps, features)。\n",
        "\n",
        "> ABCDEFGHIJKLMNOPQRSTUVWXYZ\n",
        "\n",
        "> 例如: \n",
        "\n",
        "> 給 J -> 預測 K\n",
        "\n",
        "> 給 X -> 預測 Y\n",
        "\n",
        "\n",
        "目標訓練張量結構: (samples, time_steps, features) -> (n , **1**, **1** )\n",
        "\n",
        "請特別注意, 這裡的1個字符會變成1個時間步裡頭的1個element的\"feature\"向量。"
      ]
    },
    {
      "cell_type": "code",
      "metadata": {
        "id": "rJPJgOtjvZsm"
      },
      "source": [
        "# 重塑 X 資料的維度成為 (samples, time_steps)\n",
        "\n",
        "\n",
        "\n",
        "\n",
        "# one-hot 編碼輸出變量\n",
        "\n",
        "\n",
        "\n"
      ],
      "execution_count": null,
      "outputs": []
    },
    {
      "cell_type": "markdown",
      "metadata": {
        "id": "oZZ7lYj_vZso"
      },
      "source": [
        "### STEP5. 建立模型"
      ]
    },
    {
      "cell_type": "code",
      "metadata": {
        "id": "_AddSbIxvZso"
      },
      "source": [
        "\n",
        "\n",
        "\n",
        "\n",
        "\n",
        "\n",
        "\n",
        "\n",
        "\n",
        "model.summary()"
      ],
      "execution_count": null,
      "outputs": []
    },
    {
      "cell_type": "markdown",
      "metadata": {
        "id": "tbU3VGnhvZsr"
      },
      "source": [
        "### STEP6. 定義訓練並進行訓練"
      ]
    },
    {
      "cell_type": "code",
      "metadata": {
        "id": "SxgdNy9nvZsr"
      },
      "source": [
        "model.compile(loss='categorical_crossentropy', optimizer='adam', metrics=['categorical_accuracy'])\n",
        "model.fit(X, y, epochs=200, batch_size=1, verbose=2)"
      ],
      "execution_count": null,
      "outputs": []
    },
    {
      "cell_type": "markdown",
      "metadata": {
        "id": "fclp1frZvZst"
      },
      "source": [
        "### STEP7. 評估模型準確率"
      ]
    },
    {
      "cell_type": "code",
      "metadata": {
        "id": "T3JyAlKyvZsu"
      },
      "source": [
        "# 評估模型的性能\n",
        "scores = model.evaluate(X, y, verbose=0)\n",
        "print(\"Model Accuracy: %.2f%%\" % (scores[1]*100))"
      ],
      "execution_count": null,
      "outputs": []
    },
    {
      "cell_type": "markdown",
      "metadata": {
        "id": "0ijptfj_vZsw"
      },
      "source": [
        "### STEP8. 預測結果"
      ]
    },
    {
      "cell_type": "code",
      "metadata": {
        "id": "fjFBA6mBvZsw"
      },
      "source": [
        "# 展示模型預測能力\n",
        "for pattern in dataX:\n",
        "    # 把26個字母一個個拿進模型來預測會出現的字母\n",
        "    x = numpy.reshape(pattern, (1, len(pattern)))\n",
        "    # x = x / float(len(alphabet))\n",
        "    \n",
        "    prediction = model.predict(x, verbose=0)\n",
        "    index = numpy.argmax(prediction) # 機率最大的idx\n",
        "    result = int_to_char[index] # 看看預測出來的是那一個字母\n",
        "    seq_in = [int_to_char[value] for value in pattern]\n",
        "    print(seq_in, \"->\", result) # 打印結果"
      ],
      "execution_count": null,
      "outputs": []
    },
    {
      "cell_type": "markdown",
      "metadata": {
        "id": "SjJnPzeHvZtD"
      },
      "source": [
        "## 模型 3. LSTM 學習三個字符的時間步驟窗口(Three-Char Time Step Window)到一個字符的映射"
      ]
    },
    {
      "cell_type": "markdown",
      "metadata": {
        "id": "aJ2wEoNzvZtD"
      },
      "source": [
        "### STEP1. 準備訓練用資料"
      ]
    },
    {
      "cell_type": "code",
      "metadata": {
        "id": "3xOBXdPPvZtD"
      },
      "source": [
        "seq_length = 3\n",
        "dataX = []\n",
        "dataY = []\n",
        "for i in range(0, len(alphabet) - seq_length, 1):\n",
        "    seq_in = alphabet[i:i + seq_length]\n",
        "    seq_out = alphabet[i + seq_length]\n",
        "    dataX.append([char_to_int[char] for char in seq_in])\n",
        "    dataY.append(char_to_int[seq_out])\n",
        "    print(seq_in, '->', seq_out)"
      ],
      "execution_count": null,
      "outputs": []
    },
    {
      "cell_type": "markdown",
      "metadata": {
        "id": "uqT1kVuxvZtF"
      },
      "source": [
        "### STEP2. 資料預處理\n",
        "\n",
        "\n",
        "> ABCDEFGHIJKLMNOPQRSTUVWXYZ\n",
        "\n",
        "> 例如: \n",
        "\n",
        "> 給 HIJ -> 預測 K\n",
        "\n",
        "> 給 EFG -> 預測 H\n",
        "\n",
        "目標訓練張量結構: (samples, time_steps, features) -> (n , **3**, **1** )\n",
        "\n",
        "準備訓練資料集的時候要把資料的張量結構轉換成, 1筆訓練資料有\"3\"個時間步, 裡頭存放著\"1\"個字符的資料\"features\"向量。"
      ]
    },
    {
      "cell_type": "code",
      "metadata": {
        "id": "k_QQIqNsvZtF"
      },
      "source": [
        "# 重塑 X 資料的維度成為 (samples, time_steps)\n",
        "\n",
        "\n",
        "\n",
        "\n",
        "\n",
        "\n",
        "\n",
        "\n"
      ],
      "execution_count": null,
      "outputs": []
    },
    {
      "cell_type": "markdown",
      "metadata": {
        "id": "_5T04uxgvZtH"
      },
      "source": [
        "### STEP3. 建立模型"
      ]
    },
    {
      "cell_type": "code",
      "metadata": {
        "id": "uvEZ9fYzvZtH"
      },
      "source": [
        "# 創建模型\n",
        "\n",
        "\n",
        "\n",
        "\n",
        "\n",
        "\n",
        "\n"
      ],
      "execution_count": null,
      "outputs": []
    },
    {
      "cell_type": "markdown",
      "metadata": {
        "id": "0mE2bL5tvZtJ"
      },
      "source": [
        "### STEP4. 定義訓練並進行訓練"
      ]
    },
    {
      "cell_type": "code",
      "metadata": {
        "id": "8FPYcXO4vZtJ"
      },
      "source": [
        "model.compile(loss='categorical_crossentropy', optimizer='adam', metrics=['categorical_accuracy'])\n",
        "model.fit(X, y, epochs=100, batch_size=1, verbose=2)"
      ],
      "execution_count": null,
      "outputs": []
    },
    {
      "cell_type": "markdown",
      "metadata": {
        "id": "PmRtls4hvZtL"
      },
      "source": [
        "### STEP5. 評估模型準確率"
      ]
    },
    {
      "cell_type": "code",
      "metadata": {
        "id": "PgmOT5wHvZtL"
      },
      "source": [
        "# 評估模型的性能\n",
        "scores = model.evaluate(X, y, verbose=0)\n",
        "print(\"Model Accuracy: %.2f%%\" % (scores[1]*100))"
      ],
      "execution_count": null,
      "outputs": []
    },
    {
      "cell_type": "markdown",
      "metadata": {
        "id": "u_CLA_yovZtO"
      },
      "source": [
        "### STEP6. 預測結果"
      ]
    },
    {
      "cell_type": "code",
      "metadata": {
        "id": "oLfof3-zvZtO"
      },
      "source": [
        "# 讓我們擷取3個字符轉成張量結構 shape:(1,3,1)來進行infer\n",
        "for pattern in dataX:\n",
        "    x = numpy.reshape(pattern, (1, len(pattern), 1))\n",
        "    # x = x / float(len(alphabet))\n",
        "    prediction = model.predict(x, verbose=0)\n",
        "    index = numpy.argmax(prediction)\n",
        "    result = int_to_char[index]\n",
        "    seq_in = [int_to_char[value] for value in pattern]\n",
        "    print(seq_in, \"->\", result)"
      ],
      "execution_count": null,
      "outputs": []
    }
  ]
}