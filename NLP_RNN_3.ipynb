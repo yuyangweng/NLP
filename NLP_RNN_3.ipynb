{
  "nbformat": 4,
  "nbformat_minor": 0,
  "metadata": {
    "kernelspec": {
      "display_name": "Python 3",
      "language": "python",
      "name": "python3"
    },
    "language_info": {
      "codemirror_mode": {
        "name": "ipython",
        "version": 3
      },
      "file_extension": ".py",
      "mimetype": "text/x-python",
      "name": "python",
      "nbconvert_exporter": "python",
      "pygments_lexer": "ipython3",
      "version": "3.7.9"
    },
    "colab": {
      "name": "NLP-RNN-3.ipynb",
      "provenance": [],
      "collapsed_sections": [],
      "include_colab_link": true
    },
    "accelerator": "GPU"
  },
  "cells": [
    {
      "cell_type": "markdown",
      "metadata": {
        "id": "view-in-github",
        "colab_type": "text"
      },
      "source": [
        "<a href=\"https://colab.research.google.com/github/yuyangweng/NLP/blob/main/NLP_RNN_3.ipynb\" target=\"_parent\"><img src=\"https://colab.research.google.com/assets/colab-badge.svg\" alt=\"Open In Colab\"/></a>"
      ]
    },
    {
      "cell_type": "markdown",
      "metadata": {
        "id": "j0U7YA9Gt2z3"
      },
      "source": [
        "現在讓我們嘗試在IMDB電影評論分類問題上使用這種模型。 首先，我們預處理數據："
      ]
    },
    {
      "cell_type": "code",
      "metadata": {
        "id": "SxGQMhB-t2zo"
      },
      "source": [
        "import tensorflow\n",
        "from tensorflow import keras"
      ],
      "execution_count": null,
      "outputs": []
    },
    {
      "cell_type": "code",
      "metadata": {
        "id": "3jntGYF4t2z4",
        "colab": {
          "base_uri": "https://localhost:8080/"
        },
        "outputId": "1ee892b8-be06-404c-e9f9-eb613638a570"
      },
      "source": [
        "from tensorflow.keras.datasets import imdb\n",
        "from tensorflow.keras.preprocessing import sequence\n",
        "import matplotlib.pyplot as plt\n",
        " \n",
        "max_features = 10000  # 要考慮作為特徵的語詞數量\n",
        "maxlen = 500  # 當句子的長度超過500個語詞的部份,就把它刪除掉\n",
        "batch_size = 64\n",
        " \n",
        "# 載入IMDB的資料\n",
        "print('Loading data...')\n",
        "(input_train, y_train), (input_test, y_test) = imdb.load_data(num_words=max_features)\n",
        "print(len(input_train), 'train sequences')\n",
        "print(len(input_test), 'test sequences')\n",
        " \n",
        "# 如果長度不夠的話就左端補空\n",
        "print('Pad sequences (samples x time)')\n",
        "input_train = sequence.pad_sequences(input_train, maxlen=maxlen)\n",
        "input_test = sequence.pad_sequences(input_test, maxlen=maxlen)\n",
        "print('input_train shape:', input_train.shape)  #(sample size, timesteps)\n",
        "print('input_test shape:', input_test.shape)"
      ],
      "execution_count": null,
      "outputs": [
        {
          "output_type": "stream",
          "text": [
            "Loading data...\n",
            "Downloading data from https://storage.googleapis.com/tensorflow/tf-keras-datasets/imdb.npz\n",
            "17465344/17464789 [==============================] - 0s 0us/step\n"
          ],
          "name": "stdout"
        },
        {
          "output_type": "stream",
          "text": [
            "<string>:6: VisibleDeprecationWarning: Creating an ndarray from ragged nested sequences (which is a list-or-tuple of lists-or-tuples-or ndarrays with different lengths or shapes) is deprecated. If you meant to do this, you must specify 'dtype=object' when creating the ndarray\n",
            "/usr/local/lib/python3.6/dist-packages/tensorflow/python/keras/datasets/imdb.py:159: VisibleDeprecationWarning: Creating an ndarray from ragged nested sequences (which is a list-or-tuple of lists-or-tuples-or ndarrays with different lengths or shapes) is deprecated. If you meant to do this, you must specify 'dtype=object' when creating the ndarray\n",
            "  x_train, y_train = np.array(xs[:idx]), np.array(labels[:idx])\n",
            "/usr/local/lib/python3.6/dist-packages/tensorflow/python/keras/datasets/imdb.py:160: VisibleDeprecationWarning: Creating an ndarray from ragged nested sequences (which is a list-or-tuple of lists-or-tuples-or ndarrays with different lengths or shapes) is deprecated. If you meant to do this, you must specify 'dtype=object' when creating the ndarray\n",
            "  x_test, y_test = np.array(xs[idx:]), np.array(labels[idx:])\n"
          ],
          "name": "stderr"
        },
        {
          "output_type": "stream",
          "text": [
            "25000 train sequences\n",
            "25000 test sequences\n",
            "Pad sequences (samples x time)\n",
            "input_train shape: (25000, 500)\n",
            "input_test shape: (25000, 500)\n"
          ],
          "name": "stdout"
        }
      ]
    },
    {
      "cell_type": "code",
      "metadata": {
        "colab": {
          "base_uri": "https://localhost:8080/"
        },
        "id": "ovSd9kbOXG95",
        "outputId": "1db95203-a2f0-4b87-b20b-024c5a7cce7b"
      },
      "source": [
        "print(input_train[0])"
      ],
      "execution_count": null,
      "outputs": [
        {
          "output_type": "stream",
          "text": [
            "[   0    0    0    0    0    0    0    0    0    0    0    0    0    0\n",
            "    0    0    0    0    0    0    0    0    0    0    0    0    0    0\n",
            "    0    0    0    0    0    0    0    0    0    0    0    0    0    0\n",
            "    0    0    0    0    0    0    0    0    0    0    0    0    0    0\n",
            "    0    0    0    0    0    0    0    0    0    0    0    0    0    0\n",
            "    0    0    0    0    0    0    0    0    0    0    0    0    0    0\n",
            "    0    0    0    0    0    0    0    0    0    0    0    0    0    0\n",
            "    0    0    0    0    0    0    0    0    0    0    0    0    0    0\n",
            "    0    0    0    0    0    0    0    0    0    0    0    0    0    0\n",
            "    0    0    0    0    0    0    0    0    0    0    0    0    0    0\n",
            "    0    0    0    0    0    0    0    0    0    0    0    0    0    0\n",
            "    0    0    0    0    0    0    0    0    0    0    0    0    0    0\n",
            "    0    0    0    0    0    0    0    0    0    0    0    0    0    0\n",
            "    0    0    0    0    0    0    0    0    0    0    0    0    0    0\n",
            "    0    0    0    0    0    0    0    0    0    0    0    0    0    0\n",
            "    0    0    0    0    0    0    0    0    0    0    0    0    0    0\n",
            "    0    0    0    0    0    0    0    0    0    0    0    0    0    0\n",
            "    0    0    0    0    0    0    0    0    0    0    0    0    0    0\n",
            "    0    0    0    0    0    0    0    0    0    0    0    0    0    0\n",
            "    0    0    0    0    0    0    0    0    0    0    0    0    0    0\n",
            "    0    0    1   14   22   16   43  530  973 1622 1385   65  458 4468\n",
            "   66 3941    4  173   36  256    5   25  100   43  838  112   50  670\n",
            "    2    9   35  480  284    5  150    4  172  112  167    2  336  385\n",
            "   39    4  172 4536 1111   17  546   38   13  447    4  192   50   16\n",
            "    6  147 2025   19   14   22    4 1920 4613  469    4   22   71   87\n",
            "   12   16   43  530   38   76   15   13 1247    4   22   17  515   17\n",
            "   12   16  626   18    2    5   62  386   12    8  316    8  106    5\n",
            "    4 2223 5244   16  480   66 3785   33    4  130   12   16   38  619\n",
            "    5   25  124   51   36  135   48   25 1415   33    6   22   12  215\n",
            "   28   77   52    5   14  407   16   82    2    8    4  107  117 5952\n",
            "   15  256    4    2    7 3766    5  723   36   71   43  530  476   26\n",
            "  400  317   46    7    4    2 1029   13  104   88    4  381   15  297\n",
            "   98   32 2071   56   26  141    6  194 7486   18    4  226   22   21\n",
            "  134  476   26  480    5  144   30 5535   18   51   36   28  224   92\n",
            "   25  104    4  226   65   16   38 1334   88   12   16  283    5   16\n",
            " 4472  113  103   32   15   16 5345   19  178   32]\n"
          ],
          "name": "stdout"
        }
      ]
    },
    {
      "cell_type": "code",
      "metadata": {
        "id": "gpmwjHkEQHGf"
      },
      "source": [
        "# input data shape (sample size, timesteps). Use label encoding, not one hot.##"
      ],
      "execution_count": null,
      "outputs": []
    },
    {
      "cell_type": "markdown",
      "metadata": {
        "id": "Irl28xmYt2z6"
      },
      "source": [
        "#使用1個`Embedding`層和2個`LSTM`層來訓練一個簡單的循環網絡(`RNN`)：\n",
        "\n",
        "Embedding嵌入層將正整數（下標）轉換為具有固定大小的向量，如[[4],[20]]->[[0.25,0.1],[0.6,-0.2]] (取代one-hot encoding)\n",
        "\n",
        "Embedding層只能作為模型的第壹層\n",
        "\n",
        "參數\n",
        "input_dim：大或等於0的整數，字典長度，即輸入數據最大下標+1\n",
        "\n",
        "output_dim：大於0的整數，代表全連接嵌入的維度\n",
        "\n",
        "input_length：當輸入序列的長度固定時，該值為其長度。如果要在該層後接Flatten層，然後接Dense層，則必須指定該參數，否則Dense層的輸出維度無法自動推斷。\n",
        "\n",
        "輸入shape\n",
        "形如（samples，sequence_length=time steps）的2D張量\n",
        "\n",
        "輸出shape\n",
        "形如(samples, sequence_length, output_dim)的3D張量\n",
        "\n",
        "https://keras-cn.readthedocs.io/en/latest/layers/embedding_layer/\n",
        "\n",
        "https://www.jianshu.com/p/b2c33d7e56a5\n",
        "\n"
      ]
    },
    {
      "cell_type": "code",
      "metadata": {
        "id": "od0gxOalt20B",
        "colab": {
          "base_uri": "https://localhost:8080/",
          "height": 722
        },
        "outputId": "278cd6da-2297-49bc-cfbe-cc24cda21aa5"
      },
      "source": [
        "from tensorflow.keras import Sequential\n",
        "from tensorflow.keras.layers import Dense, LSTM, Dropout, Embedding\n",
        "\n",
        "model = Sequential()   # 輸入 （sample size，time steps） with label encoding              \n",
        "model.add(Embedding(max_features, 8, input_length=500)) # => 參數(input features, output features, time steps)\n",
        "model.add(Dropout(0.5)) # 承接 embedding 輸出 （sample size，time steps, output features） \n",
        "model.add(LSTM(16, return_sequences=True)) # 輸入 （sample size，time steps, input features） \n",
        "model.add(Dropout(0.5))\n",
        "model.add(LSTM(8))\n",
        "model.add(Dropout(0.5))\n",
        "model.add(Dense(1, activation='sigmoid'))\n",
        "\n",
        "model.summary()\n",
        "\n",
        "model.compile(optimizer='adam',\n",
        "              loss='binary_crossentropy',\n",
        "              metrics=['binary_accuracy'])\n",
        "history = model.fit(input_train, y_train,\n",
        "                    epochs=10,\n",
        "                    batch_size=batch_size,\n",
        "                    validation_split=0.2)"
      ],
      "execution_count": null,
      "outputs": [
        {
          "output_type": "stream",
          "text": [
            "Model: \"sequential_8\"\n",
            "_________________________________________________________________\n",
            "Layer (type)                 Output Shape              Param #   \n",
            "=================================================================\n",
            "embedding_7 (Embedding)      (None, 500, 8)            80000     \n",
            "_________________________________________________________________\n",
            "dropout_3 (Dropout)          (None, 500, 8)            0         \n",
            "_________________________________________________________________\n",
            "lstm_11 (LSTM)               (None, 500, 16)           1600      \n",
            "_________________________________________________________________\n",
            "dropout_4 (Dropout)          (None, 500, 16)           0         \n",
            "_________________________________________________________________\n",
            "lstm_12 (LSTM)               (None, 8)                 800       \n",
            "_________________________________________________________________\n",
            "dropout_5 (Dropout)          (None, 8)                 0         \n",
            "_________________________________________________________________\n",
            "dense_3 (Dense)              (None, 1)                 9         \n",
            "=================================================================\n",
            "Total params: 82,409\n",
            "Trainable params: 82,409\n",
            "Non-trainable params: 0\n",
            "_________________________________________________________________\n",
            "Epoch 1/10\n",
            "313/313 [==============================] - 13s 40ms/step - loss: 0.6118 - binary_accuracy: 0.6283 - val_loss: 0.3805 - val_binary_accuracy: 0.8458\n",
            "Epoch 2/10\n",
            "313/313 [==============================] - 12s 40ms/step - loss: 0.3570 - binary_accuracy: 0.8653 - val_loss: 0.3019 - val_binary_accuracy: 0.8786\n",
            "Epoch 3/10\n",
            "313/313 [==============================] - 12s 38ms/step - loss: 0.2884 - binary_accuracy: 0.8967 - val_loss: 0.2829 - val_binary_accuracy: 0.8858\n",
            "Epoch 4/10\n",
            "313/313 [==============================] - 12s 39ms/step - loss: 0.2667 - binary_accuracy: 0.9044 - val_loss: 0.2943 - val_binary_accuracy: 0.8786\n",
            "Epoch 5/10\n",
            "313/313 [==============================] - 12s 39ms/step - loss: 0.2238 - binary_accuracy: 0.9240 - val_loss: 0.2944 - val_binary_accuracy: 0.8778\n",
            "Epoch 6/10\n",
            "313/313 [==============================] - 12s 39ms/step - loss: 0.2021 - binary_accuracy: 0.9320 - val_loss: 0.2899 - val_binary_accuracy: 0.8854\n",
            "Epoch 7/10\n",
            "313/313 [==============================] - 13s 41ms/step - loss: 0.1871 - binary_accuracy: 0.9366 - val_loss: 0.3103 - val_binary_accuracy: 0.8740\n",
            "Epoch 8/10\n",
            "313/313 [==============================] - 12s 39ms/step - loss: 0.1726 - binary_accuracy: 0.9435 - val_loss: 0.3223 - val_binary_accuracy: 0.8814\n",
            "Epoch 9/10\n",
            "313/313 [==============================] - 12s 40ms/step - loss: 0.1606 - binary_accuracy: 0.9477 - val_loss: 0.3582 - val_binary_accuracy: 0.8832\n",
            "Epoch 10/10\n",
            "313/313 [==============================] - 12s 39ms/step - loss: 0.1503 - binary_accuracy: 0.9503 - val_loss: 0.3491 - val_binary_accuracy: 0.8836\n"
          ],
          "name": "stdout"
        }
      ]
    },
    {
      "cell_type": "markdown",
      "metadata": {
        "id": "aTNYadcAt2z-"
      },
      "source": [
        "我們用圖表來看一下模型在訓練(training)和驗證(validation)的損失(loss)和準確性(accuracy)："
      ]
    },
    {
      "cell_type": "code",
      "metadata": {
        "id": "rd6Xan6Ft20D",
        "colab": {
          "base_uri": "https://localhost:8080/",
          "height": 545
        },
        "outputId": "53ded1db-be59-4424-9a52-5581d1ed9920"
      },
      "source": [
        "acc = history.history['binary_accuracy']\n",
        "val_acc = history.history['val_binary_accuracy']\n",
        "loss = history.history['loss']\n",
        "val_loss = history.history['val_loss']\n",
        "\n",
        "epochs = range(len(acc))\n",
        "\n",
        "plt.plot(epochs, acc, label='Training acc')\n",
        "plt.plot(epochs, val_acc, label='Validation acc')\n",
        "plt.title('Training and validation accuracy')\n",
        "plt.legend()\n",
        "\n",
        "plt.figure()\n",
        "\n",
        "plt.plot(epochs, loss, label='Training loss')\n",
        "plt.plot(epochs, val_loss, label='Validation loss')\n",
        "plt.title('Training and validation loss')\n",
        "plt.legend()\n",
        "\n",
        "plt.show()"
      ],
      "execution_count": null,
      "outputs": [
        {
          "output_type": "display_data",
          "data": {
            "image/png": "[encoded data removed]",
            "text/plain": [
              "<Figure size 432x288 with 1 Axes>"
            ]
          },
          "metadata": {
            "tags": [],
            "needs_background": "light"
          }
        },
        {
          "output_type": "display_data",
          "data": {
            "image/png": "[encoded data removed]",
            "text/plain": [
              "<Figure size 432x288 with 1 Axes>"
            ]
          },
          "metadata": {
            "tags": [],
            "needs_background": "light"
          }
        }
      ]
    },
    {
      "cell_type": "markdown",
      "metadata": {
        "id": "Qls37iEVt20F"
      },
      "source": [
        "使用`LSTM`對這個數據集獲得了88.58％的測試精度。\n",
        "\n",
        "---\n",
        "\n"
      ]
    },
    {
      "cell_type": "markdown",
      "metadata": {
        "id": "ZXis_N7Qt20G"
      },
      "source": [
        "### 參考: \n",
        "* [fchollet: deep-learning-with-python-notebooks (原文)](https://github.com/fchollet/deep-learning-with-python-notebooks/blob/master/6.2-understanding-recurrent-neural-networks.ipynb)\n",
        "* [Keras官網](http://keras.io/)\n",
        "\n",
        "*https://github.com/erhwenkuo"
      ]
    },
    {
      "cell_type": "markdown",
      "metadata": {
        "id": "SPIssWBht20G"
      },
      "source": [
        "MIT License\n",
        "\n",
        "Copyright (c) 2017 François Chollet\n",
        "\n",
        "Permission is hereby granted, free of charge, to any person obtaining a copy\n",
        "of this software and associated documentation files (the \"Software\"), to deal\n",
        "in the Software without restriction, including without limitation the rights\n",
        "to use, copy, modify, merge, publish, distribute, sublicense, and/or sell\n",
        "copies of the Software, and to permit persons to whom the Software is\n",
        "furnished to do so, subject to the following conditions:\n",
        "\n",
        "The above copyright notice and this permission notice shall be included in all\n",
        "copies or substantial portions of the Software.\n",
        "\n",
        "THE SOFTWARE IS PROVIDED \"AS IS\", WITHOUT WARRANTY OF ANY KIND, EXPRESS OR\n",
        "IMPLIED, INCLUDING BUT NOT LIMITED TO THE WARRANTIES OF MERCHANTABILITY,\n",
        "FITNESS FOR A PARTICULAR PURPOSE AND NONINFRINGEMENT. IN NO EVENT SHALL THE\n",
        "AUTHORS OR COPYRIGHT HOLDERS BE LIABLE FOR ANY CLAIM, DAMAGES OR OTHER\n",
        "LIABILITY, WHETHER IN AN ACTION OF CONTRACT, TORT OR OTHERWISE, ARISING FROM,\n",
        "OUT OF OR IN CONNECTION WITH THE SOFTWARE OR THE USE OR OTHER DEALINGS IN THE\n",
        "SOFTWARE."
      ]
    },
    {
      "cell_type": "markdown",
      "metadata": {
        "id": "9D4dQSDBUSuL"
      },
      "source": [
        "#使用1個`Embedding`層和2個`GRU`**層來訓練：**\n"
      ]
    },
    {
      "cell_type": "code",
      "metadata": {
        "id": "lGaNbrw1UKbD",
        "colab": {
          "base_uri": "https://localhost:8080/",
          "height": 722
        },
        "outputId": "a2df1259-6546-4bd7-d9cd-8a6e90e08f56"
      },
      "source": [
        "from tensorflow.keras.layers import GRU\n",
        "\n",
        "model = Sequential()\n",
        "model.add(Embedding(max_features, 8, input_length=500))\n",
        "model.add(Dropout(0.5))\n",
        "model.add(GRU(16, return_sequences=True))\n",
        "model.add(Dropout(0.5))\n",
        "model.add(GRU(8))\n",
        "model.add(Dropout(0.5))\n",
        "model.add(Dense(1, activation='sigmoid'))\n",
        "\n",
        "model.summary()\n",
        "\n",
        "model.compile(optimizer='adam',\n",
        "              loss='binary_crossentropy',\n",
        "              metrics=['binary_accuracy'])\n",
        "history = model.fit(input_train, y_train,\n",
        "                    epochs=10,\n",
        "                    batch_size=batch_size,\n",
        "                    validation_split=0.2)"
      ],
      "execution_count": null,
      "outputs": [
        {
          "output_type": "stream",
          "text": [
            "Model: \"sequential_9\"\n",
            "_________________________________________________________________\n",
            "Layer (type)                 Output Shape              Param #   \n",
            "=================================================================\n",
            "embedding_8 (Embedding)      (None, 500, 8)            80000     \n",
            "_________________________________________________________________\n",
            "dropout_6 (Dropout)          (None, 500, 8)            0         \n",
            "_________________________________________________________________\n",
            "gru (GRU)                    (None, 500, 16)           1248      \n",
            "_________________________________________________________________\n",
            "dropout_7 (Dropout)          (None, 500, 16)           0         \n",
            "_________________________________________________________________\n",
            "gru_1 (GRU)                  (None, 8)                 624       \n",
            "_________________________________________________________________\n",
            "dropout_8 (Dropout)          (None, 8)                 0         \n",
            "_________________________________________________________________\n",
            "dense_4 (Dense)              (None, 1)                 9         \n",
            "=================================================================\n",
            "Total params: 81,881\n",
            "Trainable params: 81,881\n",
            "Non-trainable params: 0\n",
            "_________________________________________________________________\n",
            "Epoch 1/10\n",
            "313/313 [==============================] - 13s 41ms/step - loss: 0.6338 - binary_accuracy: 0.6160 - val_loss: 0.4536 - val_binary_accuracy: 0.7790\n",
            "Epoch 2/10\n",
            "313/313 [==============================] - 12s 39ms/step - loss: 0.4083 - binary_accuracy: 0.8353 - val_loss: 0.3297 - val_binary_accuracy: 0.8636\n",
            "Epoch 3/10\n",
            "313/313 [==============================] - 12s 40ms/step - loss: 0.3119 - binary_accuracy: 0.8852 - val_loss: 0.3039 - val_binary_accuracy: 0.8788\n",
            "Epoch 4/10\n",
            "313/313 [==============================] - 12s 38ms/step - loss: 0.2578 - binary_accuracy: 0.9071 - val_loss: 0.2966 - val_binary_accuracy: 0.8786\n",
            "Epoch 5/10\n",
            "313/313 [==============================] - 12s 38ms/step - loss: 0.2283 - binary_accuracy: 0.9202 - val_loss: 0.3150 - val_binary_accuracy: 0.8738\n",
            "Epoch 6/10\n",
            "313/313 [==============================] - 12s 39ms/step - loss: 0.2080 - binary_accuracy: 0.9294 - val_loss: 0.3016 - val_binary_accuracy: 0.8814\n",
            "Epoch 7/10\n",
            "313/313 [==============================] - 12s 38ms/step - loss: 0.1987 - binary_accuracy: 0.9330 - val_loss: 0.3140 - val_binary_accuracy: 0.8856\n",
            "Epoch 8/10\n",
            "313/313 [==============================] - 12s 38ms/step - loss: 0.1770 - binary_accuracy: 0.9409 - val_loss: 0.3779 - val_binary_accuracy: 0.8706\n",
            "Epoch 9/10\n",
            "313/313 [==============================] - 12s 39ms/step - loss: 0.1726 - binary_accuracy: 0.9419 - val_loss: 0.3398 - val_binary_accuracy: 0.8792\n",
            "Epoch 10/10\n",
            "313/313 [==============================] - 12s 39ms/step - loss: 0.1591 - binary_accuracy: 0.9478 - val_loss: 0.3501 - val_binary_accuracy: 0.8866\n"
          ],
          "name": "stdout"
        }
      ]
    },
    {
      "cell_type": "code",
      "metadata": {
        "id": "bsCWZgPHUOre",
        "colab": {
          "base_uri": "https://localhost:8080/",
          "height": 545
        },
        "outputId": "0d2cdffd-9b28-4bb4-c963-8ea8f88f01ac"
      },
      "source": [
        "acc = history.history['binary_accuracy']\n",
        "val_acc = history.history['val_binary_accuracy']\n",
        "loss = history.history['loss']\n",
        "val_loss = history.history['val_loss']\n",
        "\n",
        "epochs = range(len(acc))\n",
        "\n",
        "plt.plot(epochs, acc, label='Training acc')\n",
        "plt.plot(epochs, val_acc, label='Validation acc')\n",
        "plt.title('Training and validation accuracy')\n",
        "plt.legend()\n",
        "\n",
        "plt.figure()\n",
        "\n",
        "plt.plot(epochs, loss, label='Training loss')\n",
        "plt.plot(epochs, val_loss, label='Validation loss')\n",
        "plt.title('Training and validation loss')\n",
        "plt.legend()\n",
        "\n",
        "plt.show()"
      ],
      "execution_count": null,
      "outputs": [
        {
          "output_type": "display_data",
          "data": {
            "image/png": "[encoded data removed]",
            "text/plain": [
              "<Figure size 432x288 with 1 Axes>"
            ]
          },
          "metadata": {
            "tags": [],
            "needs_background": "light"
          }
        },
        {
          "output_type": "display_data",
          "data": {
            "image/png": "[encoded data removed]",
            "text/plain": [
              "<Figure size 432x288 with 1 Axes>"
            ]
          },
          "metadata": {
            "tags": [],
            "needs_background": "light"
          }
        }
      ]
    },
    {
      "cell_type": "markdown",
      "metadata": {
        "id": "1qJ-o6GUZqLT"
      },
      "source": [
        "使用`GRU`對這個數據集獲得了88.66％的測試精度。\n"
      ]
    },
    {
      "cell_type": "markdown",
      "metadata": {
        "id": "ZdJYPyjmcPZV"
      },
      "source": [
        "\n",
        "\n",
        "---\n",
        "\n"
      ]
    }
  ]
}